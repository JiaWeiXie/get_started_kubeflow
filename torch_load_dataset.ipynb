{
 "cells": [
  {
   "cell_type": "code",
   "execution_count": 1,
   "id": "7c1eb2a3-673e-478c-b448-740afaf78eea",
   "metadata": {},
   "outputs": [
    {
     "data": {
      "text/plain": [
       "'1.6.3'"
      ]
     },
     "execution_count": 1,
     "metadata": {},
     "output_type": "execute_result"
    }
   ],
   "source": [
    "import kfp\n",
    "from kfp import dsl\n",
    "from kfp.components import func_to_container_op, InputPath, OutputPath\n",
    "\n",
    "kfp.__version__"
   ]
  },
  {
   "cell_type": "code",
   "execution_count": 2,
   "id": "c38c6600-4e98-4743-a99f-a6e9a7c1a67e",
   "metadata": {},
   "outputs": [],
   "source": [
    "import os\n",
    "\n",
    "with open(os.environ['KF_PIPELINES_SA_TOKEN_PATH'], \"r\") as f:\n",
    "    TOKEN = f.read()"
   ]
  },
  {
   "cell_type": "code",
   "execution_count": 3,
   "id": "2cac1541-47fe-4e1c-851a-73c8b533f14d",
   "metadata": {},
   "outputs": [],
   "source": [
    "from kubernetes import client as k8s_client\n",
    "\n",
    "\n",
    "def attach_output_volume(op):\n",
    "    \"\"\"Attaches emptyDir volumes to container operations.\n",
    "    See https://github.com/kubeflow/pipelines/issues/1654\n",
    "    \"\"\"\n",
    "\n",
    "    # Handle auto-generated pipeline metadata\n",
    "    op.output_artifact_paths['mlpipeline-ui-metadata'] = '/tmp/outputs/mlpipeline-ui-metadata.json'\n",
    "    op.output_artifact_paths['mlpipeline-metrics'] = '/tmp/outputs/mlpipeline-metrics.json'\n",
    "\n",
    "    # Add somewhere to store regular output\n",
    "    op.add_volume(k8s_client.V1Volume(name='volume', empty_dir=k8s_client.V1EmptyDirVolumeSource()))\n",
    "    op.container.add_volume_mount(k8s_client.V1VolumeMount(name='volume', mount_path='/output'))\n",
    "\n",
    "    # func_to_container_op wants to store outputs under /tmp/outputs\n",
    "    op.add_volume(\n",
    "        k8s_client.V1Volume(name='outputs', empty_dir=k8s_client.V1EmptyDirVolumeSource())\n",
    "    )\n",
    "    op.container.add_volume_mount(\n",
    "        k8s_client.V1VolumeMount(name='outputs', mount_path='/tmp/outputs')\n",
    "    )\n",
    "    \n",
    "    # dataset store\n",
    "    op.add_volume(\n",
    "        k8s_client.V1Volume(name='data', empty_dir=k8s_client.V1EmptyDirVolumeSource())\n",
    "    )\n",
    "    op.container.add_volume_mount(\n",
    "        k8s_client.V1VolumeMount(name='data', mount_path='/data')\n",
    "    )\n",
    "\n",
    "    return op"
   ]
  },
  {
   "cell_type": "code",
   "execution_count": 4,
   "id": "149c8d1a-bab8-4477-afa5-40a6b88af821",
   "metadata": {},
   "outputs": [],
   "source": [
    "endpoint = 'http://ml-pipeline.kubeflow:8888'\n",
    "kfp_client = kfp.Client(host=endpoint, existing_token=TOKEN)"
   ]
  },
  {
   "cell_type": "code",
   "execution_count": 5,
   "id": "60082cff-15e5-4e95-989b-cfc122e51f0d",
   "metadata": {},
   "outputs": [
    {
     "data": {
      "text/plain": [
       "'1.8.1+cpu'"
      ]
     },
     "execution_count": 5,
     "metadata": {},
     "output_type": "execute_result"
    }
   ],
   "source": [
    "import torch\n",
    "import torch.nn as nn\n",
    "from torchvision import datasets, models, transforms, utils\n",
    "\n",
    "torch.__version__"
   ]
  },
  {
   "cell_type": "code",
   "execution_count": 6,
   "id": "3fe5e1a6-55dc-4387-95cd-3187cfa28ef4",
   "metadata": {},
   "outputs": [],
   "source": [
    "from kubernetes import client as k8s_client\n",
    "from functools import partial\n",
    "\n",
    "\n",
    "torch_func_to_container_op = partial(\n",
    "    func_to_container_op,\n",
    "    base_image='bitnami/pytorch:1.8.1',\n",
    "    packages_to_install=['kubernetes', 'requests']\n",
    ")"
   ]
  },
  {
   "cell_type": "code",
   "execution_count": 7,
   "id": "cfa3edd9-b43c-4358-adde-799327106a9f",
   "metadata": {},
   "outputs": [],
   "source": [
    "@torch_func_to_container_op\n",
    "def download_dataset(data_path: OutputPath = '/data'):\n",
    "    from torchvision import datasets, transforms\n",
    "    \n",
    "    transform = transforms.Compose([\n",
    "        transforms.ToTensor(),\n",
    "        transforms.Lambda(lambda x: x.repeat(3, 1, 1)),\n",
    "    ])\n",
    "    mnist_train = datasets.MNIST(\n",
    "        root=data_path,\n",
    "        train=True,\n",
    "        download=True,\n",
    "        transform=transform\n",
    "    )\n",
    "\n",
    "\n",
    "@dsl.pipeline(\n",
    "   name='test-mnist-dataset-pipeline',\n",
    ")\n",
    "def test_mnist_dataset_pipeline():\n",
    "    data_loading_task = download_dataset()\n",
    "    dsl.get_pipeline_conf().add_op_transformer(attach_output_volume)"
   ]
  },
  {
   "cell_type": "code",
   "execution_count": 8,
   "id": "9f84b810-5e1b-474d-8644-223741fee4b6",
   "metadata": {},
   "outputs": [
    {
     "data": {
      "text/html": [
       "<a href=\"http://ml-pipeline.kubeflow:8888/#/experiments/details/4f09a199-3bd4-40b6-bca1-8d1b7a2468ff\" target=\"_blank\" >Experiment details</a>."
      ],
      "text/plain": [
       "<IPython.core.display.HTML object>"
      ]
     },
     "metadata": {},
     "output_type": "display_data"
    },
    {
     "data": {
      "text/html": [
       "<a href=\"http://ml-pipeline.kubeflow:8888/#/runs/details/3574b262-5b6d-43af-a357-3c1de4158023\" target=\"_blank\" >Run details</a>."
      ],
      "text/plain": [
       "<IPython.core.display.HTML object>"
      ]
     },
     "metadata": {},
     "output_type": "display_data"
    },
    {
     "name": "stdout",
     "output_type": "stream",
     "text": [
      "http://ml-pipeline.kubeflow:8888/#/runs/details/3574b262-5b6d-43af-a357-3c1de4158023\n"
     ]
    }
   ],
   "source": [
    "run = kfp_client.create_run_from_pipeline_func(\n",
    "    test_mnist_dataset_pipeline,\n",
    "    arguments={}\n",
    ")\n",
    "url = f'{endpoint}/#/runs/details/{run.run_id}'\n",
    "print(url)"
   ]
  },
  {
   "cell_type": "code",
   "execution_count": 21,
   "id": "d3ed1cc7-8185-4d2d-8b08-42c99602eaff",
   "metadata": {},
   "outputs": [],
   "source": [
    "kfp.compiler.Compiler().compile(test_dataset_pipeline, 'test-mnist-dataset.yaml')"
   ]
  },
  {
   "cell_type": "code",
   "execution_count": 14,
   "id": "42615753-5da1-4109-8948-d925d62e21ad",
   "metadata": {},
   "outputs": [],
   "source": [
    "transform = transforms.Compose([\n",
    "    transforms.ToTensor(), # 轉為 Tensor\n",
    "    transforms.Lambda(lambda x: x.repeat(3, 1, 1)), # 灰階轉為 RGB\n",
    "])\n",
    "mnist_train = datasets.MNIST(\n",
    "    root='./data',       # 資料放置路徑\n",
    "    train=True,          # 訓練資料集\n",
    "    download=True,       # 自動下載\n",
    "    transform=transform  # 轉換函數\n",
    ")"
   ]
  },
  {
   "cell_type": "code",
   "execution_count": null,
   "id": "1833878d-d7a9-42d9-af05-67dae52f2703",
   "metadata": {},
   "outputs": [],
   "source": []
  }
 ],
 "metadata": {
  "kernelspec": {
   "display_name": "Python 3 (ipykernel)",
   "language": "python",
   "name": "python3"
  },
  "language_info": {
   "codemirror_mode": {
    "name": "ipython",
    "version": 3
   },
   "file_extension": ".py",
   "mimetype": "text/x-python",
   "name": "python",
   "nbconvert_exporter": "python",
   "pygments_lexer": "ipython3",
   "version": "3.8.10"
  }
 },
 "nbformat": 4,
 "nbformat_minor": 5
}
