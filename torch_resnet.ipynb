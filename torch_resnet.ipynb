{
 "cells": [
  {
   "cell_type": "code",
   "execution_count": 1,
   "id": "7c1eb2a3-673e-478c-b448-740afaf78eea",
   "metadata": {},
   "outputs": [
    {
     "data": {
      "text/plain": [
       "'1.8.19'"
      ]
     },
     "execution_count": 1,
     "metadata": {},
     "output_type": "execute_result"
    }
   ],
   "source": [
    "import kfp\n",
    "from kfp import dsl\n",
    "from kfp.components import func_to_container_op, InputPath, OutputPath\n",
    "\n",
    "kfp.__version__"
   ]
  },
  {
   "cell_type": "code",
   "execution_count": 2,
   "id": "c38c6600-4e98-4743-a99f-a6e9a7c1a67e",
   "metadata": {},
   "outputs": [],
   "source": [
    "import os\n",
    "\n",
    "with open(os.environ['KF_PIPELINES_SA_TOKEN_PATH'], \"r\") as f:\n",
    "    TOKEN = f.read()"
   ]
  },
  {
   "cell_type": "code",
   "execution_count": 3,
   "id": "149c8d1a-bab8-4477-afa5-40a6b88af821",
   "metadata": {},
   "outputs": [],
   "source": [
    "endpoint = 'http://ml-pipeline.kubeflow:8888'\n",
    "kfp_client = kfp.Client(host=endpoint, existing_token=TOKEN)"
   ]
  },
  {
   "cell_type": "code",
   "execution_count": 4,
   "id": "60082cff-15e5-4e95-989b-cfc122e51f0d",
   "metadata": {},
   "outputs": [
    {
     "data": {
      "text/plain": [
       "'1.8.1+cpu'"
      ]
     },
     "execution_count": 4,
     "metadata": {},
     "output_type": "execute_result"
    }
   ],
   "source": [
    "import torch\n",
    "import torch.nn as nn\n",
    "from torchvision import datasets, models, transforms, utils\n",
    "\n",
    "torch.__version__"
   ]
  },
  {
   "cell_type": "code",
   "execution_count": 5,
   "id": "31b51b81-86d0-446e-8265-364567d2eb63",
   "metadata": {},
   "outputs": [
    {
     "data": {
      "text/plain": [
       "True"
      ]
     },
     "execution_count": 5,
     "metadata": {},
     "output_type": "execute_result"
    }
   ],
   "source": [
    "from minio import Minio\n",
    "\n",
    "client = Minio(\n",
    "    'minio.kubeflow:9000',\n",
    "    access_key='minik8s',\n",
    "    secret_key='minik8sio',\n",
    "    secure=False,\n",
    ")\n",
    "client.bucket_exists(\"mnist\")"
   ]
  },
  {
   "cell_type": "code",
   "execution_count": 6,
   "id": "3fe5e1a6-55dc-4387-95cd-3187cfa28ef4",
   "metadata": {},
   "outputs": [],
   "source": [
    "from kubernetes import client as k8s_client\n",
    "from functools import partial\n",
    "\n",
    "\n",
    "torch_func_to_container_op = partial(\n",
    "    func_to_container_op,\n",
    "    base_image='bitnami/pytorch:1.8.1',\n",
    ")"
   ]
  },
  {
   "cell_type": "code",
   "execution_count": 11,
   "id": "cfa3edd9-b43c-4358-adde-799327106a9f",
   "metadata": {},
   "outputs": [],
   "source": [
    "@torch_func_to_container_op\n",
    "def load_dataset(mount_path: str):\n",
    "    from torchvision import datasets, transforms\n",
    "    \n",
    "    transform = transforms.Compose([\n",
    "        transforms.ToTensor(), # 轉為 Tensor\n",
    "        transforms.Lambda(lambda x: x.repeat(3, 1, 1)), # 灰階轉為 RGB\n",
    "    ])\n",
    "    mnist_train = datasets.MNIST(\n",
    "        root=mount_path,       # 資料放置路徑\n",
    "        train=True,          # 訓練資料集\n",
    "        download=True,       # 自動下載\n",
    "        transform=transform  # 轉換函數\n",
    "    )\n",
    "\n",
    "\n",
    "@dsl.pipeline(\n",
    "   name='Test load dataset Pipeline',\n",
    ")\n",
    "def test_dataset_pipeline(mount_path: str):\n",
    "    from kubernetes import client as k8s_client\n",
    "    data_loading_task = (\n",
    "        load_dataset(mount_path)\n",
    "        .add_volume(k8s_client.V1Volume(name='torch-mnist-datavol'))\n",
    "        .add_volume_mount(\n",
    "            k8s_client.V1VolumeMount(\n",
    "                mount_path=mount_path,\n",
    "                name='torch-mnist-datavol',\n",
    "            )\n",
    "        )\n",
    "    )"
   ]
  },
  {
   "cell_type": "code",
   "execution_count": 12,
   "id": "d3ed1cc7-8185-4d2d-8b08-42c99602eaff",
   "metadata": {},
   "outputs": [],
   "source": [
    "kfp.compiler.Compiler().compile(test_dataset_pipeline, 'test-dataset.yaml')"
   ]
  },
  {
   "cell_type": "code",
   "execution_count": 14,
   "id": "42615753-5da1-4109-8948-d925d62e21ad",
   "metadata": {},
   "outputs": [],
   "source": [
    "transform = transforms.Compose([\n",
    "    transforms.ToTensor(), # 轉為 Tensor\n",
    "    transforms.Lambda(lambda x: x.repeat(3, 1, 1)), # 灰階轉為 RGB\n",
    "])\n",
    "mnist_train = datasets.MNIST(\n",
    "    root='./data',       # 資料放置路徑\n",
    "    train=True,          # 訓練資料集\n",
    "    download=True,       # 自動下載\n",
    "    transform=transform  # 轉換函數\n",
    ")"
   ]
  },
  {
   "cell_type": "code",
   "execution_count": null,
   "id": "1833878d-d7a9-42d9-af05-67dae52f2703",
   "metadata": {},
   "outputs": [],
   "source": []
  }
 ],
 "metadata": {
  "kernelspec": {
   "display_name": "Python 3 (ipykernel)",
   "language": "python",
   "name": "python3"
  },
  "language_info": {
   "codemirror_mode": {
    "name": "ipython",
    "version": 3
   },
   "file_extension": ".py",
   "mimetype": "text/x-python",
   "name": "python",
   "nbconvert_exporter": "python",
   "pygments_lexer": "ipython3",
   "version": "3.8.10"
  }
 },
 "nbformat": 4,
 "nbformat_minor": 5
}
