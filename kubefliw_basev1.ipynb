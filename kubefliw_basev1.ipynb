{
 "cells": [
  {
   "cell_type": "code",
   "execution_count": 1,
   "id": "d3df97e0-22d5-4feb-9eea-0ec7b92b07c8",
   "metadata": {},
   "outputs": [
    {
     "data": {
      "text/plain": [
       "'1.8.19'"
      ]
     },
     "execution_count": 1,
     "metadata": {},
     "output_type": "execute_result"
    }
   ],
   "source": [
    "from typing import NamedTuple\n",
    "\n",
    "import kfp\n",
    "from kfp import dsl\n",
    "from kfp.components import func_to_container_op, InputPath, OutputPath\n",
    "\n",
    "kfp.__version__"
   ]
  },
  {
   "cell_type": "code",
   "execution_count": 2,
   "id": "e04d6fb5-ac9e-40be-93c0-e014de2062f8",
   "metadata": {},
   "outputs": [],
   "source": [
    "import os\n",
    "\n",
    "with open(os.environ['KF_PIPELINES_SA_TOKEN_PATH'], \"r\") as f:\n",
    "    TOKEN = f.read()"
   ]
  },
  {
   "cell_type": "code",
   "execution_count": 6,
   "id": "21c524e2-647f-4e9a-b957-2d5a0d7f402d",
   "metadata": {},
   "outputs": [],
   "source": [
    "@func_to_container_op\n",
    "def get_random_int_op(minimum: int, maximum: int) -> int:\n",
    "    \"\"\"Generate a random number between minimum and maximum (inclusive).\"\"\"\n",
    "    import random\n",
    "    result = random.randint(minimum, maximum)\n",
    "    print(result)\n",
    "    return result\n",
    "\n",
    "\n",
    "@func_to_container_op\n",
    "def flip_coin_op() -> str:\n",
    "    \"\"\"Flip a coin and output heads or tails randomly.\"\"\"\n",
    "    import random\n",
    "    result = random.choice(['heads', 'tails'])\n",
    "    print(result)\n",
    "    return result\n",
    "\n",
    "\n",
    "@func_to_container_op\n",
    "def print_op(message: str):\n",
    "    \"\"\"Print a message.\"\"\"\n",
    "    print(message)\n",
    "    \n",
    "\n",
    "@dsl.pipeline(\n",
    "    name='Conditional execution pipeline',\n",
    "    description='Shows how to use dsl.Condition().'\n",
    ")\n",
    "def flipcoin_pipeline():\n",
    "    flip = flip_coin_op()\n",
    "    with dsl.Condition(flip.output == 'heads'):\n",
    "        random_num_head = get_random_int_op(0, 9)\n",
    "        with dsl.Condition(random_num_head.output > 5):\n",
    "            print_op('heads and %s > 5!' % random_num_head.output)\n",
    "        with dsl.Condition(random_num_head.output <= 5):\n",
    "            print_op('heads and %s <= 5!' % random_num_head.output)\n",
    "\n",
    "    with dsl.Condition(flip.output == 'tails'):\n",
    "        random_num_tail = get_random_int_op(10, 19)\n",
    "        with dsl.Condition(random_num_tail.output > 15):\n",
    "            print_op('tails and %s > 15!' % random_num_tail.output)\n",
    "        with dsl.Condition(random_num_tail.output <= 15):\n",
    "            print_op('tails and %s <= 15!' % random_num_tail.output)\n",
    "\n",
    "\n",
    "# Submit the pipeline for execution:\n",
    "#kfp.Client(host=kfp_endpoint).create_run_from_pipeline_func(flipcoin_pipeline, arguments={})\n",
    "\n",
    "# %% [markdown]\n",
    "# ## Exit handlers\n",
    "# You can use `with dsl.ExitHandler(exit_task):` context to execute a task when the rest of the pipeline finishes (succeeds or fails)\n",
    "\n",
    "# %%\n",
    "@func_to_container_op\n",
    "def fail_op(message):\n",
    "    \"\"\"Fails.\"\"\"\n",
    "    import sys\n",
    "    print(message)    \n",
    "    sys.exit(1)\n",
    "\n",
    "\n",
    "@dsl.pipeline(\n",
    "    name='Conditional execution pipeline with exit handler',\n",
    "    description='Shows how to use dsl.Condition() and dsl.ExitHandler().'\n",
    ")\n",
    "def flipcoin_exit_pipeline():\n",
    "    exit_task = print_op('Exit handler has worked!')\n",
    "    with dsl.ExitHandler(exit_task):\n",
    "        flip = flip_coin_op()\n",
    "        with dsl.Condition(flip.output == 'heads'):\n",
    "            random_num_head = get_random_int_op(0, 9)\n",
    "            with dsl.Condition(random_num_head.output > 5):\n",
    "                print_op('heads and %s > 5!' % random_num_head.output)\n",
    "            with dsl.Condition(random_num_head.output <= 5):\n",
    "                print_op('heads and %s <= 5!' % random_num_head.output)\n",
    "\n",
    "        with dsl.Condition(flip.output == 'tails'):\n",
    "            random_num_tail = get_random_int_op(10, 19)\n",
    "            with dsl.Condition(random_num_tail.output > 15):\n",
    "                print_op('tails and %s > 15!' % random_num_tail.output)\n",
    "            with dsl.Condition(random_num_tail.output <= 15):\n",
    "                print_op('tails and %s <= 15!' % random_num_tail.output)\n",
    "\n",
    "        with dsl.Condition(flip.output == 'tails'):\n",
    "            fail_op(message=\"Failing the run to demonstrate that exit handler still gets executed.\")"
   ]
  },
  {
   "cell_type": "code",
   "execution_count": 7,
   "id": "8728b819-741a-4cc5-8286-131c90321a9f",
   "metadata": {},
   "outputs": [],
   "source": [
    "endpoint = 'http://ml-pipeline.kubeflow:8888'\n",
    "kfp_client = kfp.Client(host=endpoint, existing_token=TOKEN)"
   ]
  },
  {
   "cell_type": "code",
   "execution_count": 8,
   "id": "aeb3fb33-3dbb-4fda-863d-41faca870a53",
   "metadata": {},
   "outputs": [],
   "source": [
    "kfp.compiler.Compiler().compile(flipcoin_exit_pipeline, 'test-struct.yaml')"
   ]
  },
  {
   "cell_type": "code",
   "execution_count": 10,
   "id": "8cce4c29-93d5-4b63-a4c8-d27fde7c10a4",
   "metadata": {},
   "outputs": [
    {
     "data": {
      "text/html": [
       "<a href=\"http://ml-pipeline.kubeflow:8888/#/experiments/details/87e38c90-8bfe-4a71-9e1f-7cd2517dabf0\" target=\"_blank\" >Experiment details</a>."
      ],
      "text/plain": [
       "<IPython.core.display.HTML object>"
      ]
     },
     "metadata": {},
     "output_type": "display_data"
    },
    {
     "data": {
      "text/html": [
       "<a href=\"http://ml-pipeline.kubeflow:8888/#/runs/details/0168c548-e9f2-4e92-aefd-2cb7b7f4fda6\" target=\"_blank\" >Run details</a>."
      ],
      "text/plain": [
       "<IPython.core.display.HTML object>"
      ]
     },
     "metadata": {},
     "output_type": "display_data"
    },
    {
     "name": "stdout",
     "output_type": "stream",
     "text": [
      "http://ml-pipeline.kubeflow:8888/#/runs/details/0168c548-e9f2-4e92-aefd-2cb7b7f4fda6\n"
     ]
    }
   ],
   "source": [
    "run = kfp_client.create_run_from_pipeline_func(\n",
    "    flipcoin_exit_pipeline,\n",
    "    arguments={}\n",
    ")\n",
    "url = f'{endpoint}/#/runs/details/{run.run_id}'\n",
    "print(url)"
   ]
  },
  {
   "cell_type": "code",
   "execution_count": 4,
   "id": "ad0bc5e8-3ec2-4aa3-b3ba-a105da77e3ea",
   "metadata": {},
   "outputs": [],
   "source": [
    "from kfp.v2.dsl import component"
   ]
  },
  {
   "cell_type": "code",
   "execution_count": 5,
   "id": "07b98b60-69a7-4f98-a0dc-4fc0dcca2438",
   "metadata": {},
   "outputs": [
    {
     "name": "stderr",
     "output_type": "stream",
     "text": [
      "/opt/conda/lib/python3.8/site-packages/kfp/compiler/compiler.py:79: UserWarning: V2_COMPATIBLE execution mode is at Beta quality. Some pipeline features may not work as expected.\n",
      "  warnings.warn('V2_COMPATIBLE execution mode is at Beta quality.'\n"
     ]
    },
    {
     "data": {
      "text/html": [
       "<a href=\"http://ml-pipeline.kubeflow:8888/#/experiments/details/99cb04e4-366a-4665-a182-45c15a9a6b6a\" target=\"_blank\" >Experiment details</a>."
      ],
      "text/plain": [
       "<IPython.core.display.HTML object>"
      ]
     },
     "metadata": {},
     "output_type": "display_data"
    },
    {
     "data": {
      "text/html": [
       "<a href=\"http://ml-pipeline.kubeflow:8888/#/runs/details/7d56131f-b0a1-4ea2-b304-7e5b2f3ddc1f\" target=\"_blank\" >Run details</a>."
      ],
      "text/plain": [
       "<IPython.core.display.HTML object>"
      ]
     },
     "metadata": {},
     "output_type": "display_data"
    },
    {
     "name": "stdout",
     "output_type": "stream",
     "text": [
      "http://ml-pipeline.kubeflow:8888/#/runs/details/7d56131f-b0a1-4ea2-b304-7e5b2f3ddc1f\n"
     ]
    }
   ],
   "source": [
    "@component\n",
    "def div(a: float, b: float) -> float:\n",
    "  '''Calculates sum of two arguments'''\n",
    "  return a / b\n",
    "\n",
    "\n",
    "@dsl.pipeline(\n",
    "  name='div-pipeline',\n",
    "  description='An example pipeline that performs div calculations.',\n",
    ")\n",
    "def test_div_pipeline(a: float = 1, b: float = 7):\n",
    "  div_task = div(a, b)\n",
    "\n",
    "\n",
    "run = kfp_client.create_run_from_pipeline_func(\n",
    "    test_div_pipeline,\n",
    "    arguments={\n",
    "        'a': 10,\n",
    "        'b': 5\n",
    "    },\n",
    "    mode=kfp.dsl.PipelineExecutionMode.V2_COMPATIBLE,\n",
    ")\n",
    "url = f'{endpoint}/#/runs/details/{run.run_id}'\n",
    "print(url)"
   ]
  },
  {
   "cell_type": "code",
   "execution_count": null,
   "id": "3ebc0624-81f1-48e1-8a1b-2f9383eb6fe4",
   "metadata": {},
   "outputs": [],
   "source": [
    "data_loading_task = (\n",
    "        load_dataset(mount_path)\n",
    "        .add_volume(k8s_client.V1Volume(name='torch-mnist-datavol'))\n",
    "        .add_volume_mount(\n",
    "            k8s_client.V1VolumeMount(\n",
    "                mount_path=mount_path,\n",
    "                name='torch-mnist-datavol',\n",
    "            )\n",
    "        )\n",
    "    )"
   ]
  }
 ],
 "metadata": {
  "kernelspec": {
   "display_name": "Python 3 (ipykernel)",
   "language": "python",
   "name": "python3"
  },
  "language_info": {
   "codemirror_mode": {
    "name": "ipython",
    "version": 3
   },
   "file_extension": ".py",
   "mimetype": "text/x-python",
   "name": "python",
   "nbconvert_exporter": "python",
   "pygments_lexer": "ipython3",
   "version": "3.8.10"
  }
 },
 "nbformat": 4,
 "nbformat_minor": 5
}
